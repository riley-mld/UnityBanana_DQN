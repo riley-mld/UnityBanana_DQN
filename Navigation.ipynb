{
 "cells": [
  {
   "cell_type": "code",
   "execution_count": 1,
   "metadata": {},
   "outputs": [
    {
     "name": "stderr",
     "output_type": "stream",
     "text": [
      "INFO:unityagents:\n",
      "'Academy' started successfully!\n",
      "Unity Academy name: Academy\n",
      "        Number of Brains: 1\n",
      "        Number of External Brains : 1\n",
      "        Lesson number : 0\n",
      "        Reset Parameters :\n",
      "\t\t\n",
      "Unity brain name: BananaBrain\n",
      "        Number of Visual Observations (per agent): 0\n",
      "        Vector Observation space type: continuous\n",
      "        Vector Observation space size (per agent): 37\n",
      "        Number of stacked Vector Observation: 1\n",
      "        Vector Action space type: discrete\n",
      "        Vector Action space size (per agent): 4\n",
      "        Vector Action descriptions: , , , \n"
     ]
    }
   ],
   "source": [
    "# Import packages\n",
    "from unityagents import UnityEnvironment\n",
    "import numpy as np\n",
    "import random\n",
    "import torch\n",
    "from collections import deque\n",
    "import matplotlib.pyplot as plt\n",
    "%matplotlib inline\n",
    "\n",
    "# Set enviroment\n",
    "env = UnityEnvironment(file_name=\"/media/riley/Work/PersonalProjects/AI/Deep_Reinforcement_Learning/Project1/Banana_Linux/Banana.x86_64\")"
   ]
  },
  {
   "cell_type": "code",
   "execution_count": 2,
   "metadata": {},
   "outputs": [],
   "source": [
    "# Get the default brain\n",
    "brain_name = env.brain_names[0]\n",
    "brain = env.brains[brain_name]"
   ]
  },
  {
   "cell_type": "code",
   "execution_count": 3,
   "metadata": {},
   "outputs": [
    {
     "name": "stdout",
     "output_type": "stream",
     "text": [
      "Number of agents: 1\n",
      "Number of actions: 4\n",
      "States look like: [1.         0.         0.         0.         0.84408134 0.\n",
      " 0.         1.         0.         0.0748472  0.         1.\n",
      " 0.         0.         0.25755    1.         0.         0.\n",
      " 0.         0.74177343 0.         1.         0.         0.\n",
      " 0.25854847 0.         0.         1.         0.         0.09355672\n",
      " 0.         1.         0.         0.         0.31969345 0.\n",
      " 0.        ]\n",
      "States have length: 37\n"
     ]
    }
   ],
   "source": [
    "# reset the environment\n",
    "env_info = env.reset(train_mode=True)[brain_name]\n",
    "\n",
    "# number of agents in the environment\n",
    "print('Number of agents:', len(env_info.agents))\n",
    "\n",
    "# number of actions\n",
    "action_size = brain.vector_action_space_size\n",
    "print('Number of actions:', action_size)\n",
    "\n",
    "# examine the state space \n",
    "state = env_info.vector_observations[0]\n",
    "print('States look like:', state)\n",
    "state_size = len(state)\n",
    "print('States have length:', state_size)"
   ]
  },
  {
   "cell_type": "markdown",
   "metadata": {},
   "source": [
    "# DQN"
   ]
  },
  {
   "cell_type": "code",
   "execution_count": 4,
   "metadata": {},
   "outputs": [
    {
     "name": "stdout",
     "output_type": "stream",
     "text": [
      "cuda:0\n"
     ]
    }
   ],
   "source": [
    "#from dqn_agent import Agent\n",
    "from agent import DQNPRBAgent\n",
    "from agent import DQNAgent\n",
    "\n",
    "agent = DQNAgent(state_size=37, action_size=4, seed=0, use_dueling=True, use_double=True)"
   ]
  },
  {
   "cell_type": "code",
   "execution_count": 5,
   "metadata": {
    "scrolled": false
   },
   "outputs": [
    {
     "name": "stdout",
     "output_type": "stream",
     "text": [
      "Episode 100\tAverage Score: 0.67\n",
      "Episode 200\tAverage Score: 3.34\n",
      "Episode 300\tAverage Score: 6.08\n",
      "Episode 400\tAverage Score: 8.28\n",
      "Episode 500\tAverage Score: 12.38\n",
      "Episode 539\tAverage Score: 13.04\n",
      "Environment solved in 439 episodes!\tAverage Score: 13.04\n",
      "\tModel Saved\n",
      "Episode 543\tAverage Score: 13.09\tModel Saved\n",
      "Episode 544\tAverage Score: 13.16\tModel Saved\n",
      "Episode 545\tAverage Score: 13.25\tModel Saved\n",
      "Episode 547\tAverage Score: 13.34\tModel Saved\n",
      "Episode 548\tAverage Score: 13.36\tModel Saved\n",
      "Episode 552\tAverage Score: 13.43\tModel Saved\n",
      "Episode 553\tAverage Score: 13.45\tModel Saved\n",
      "Episode 554\tAverage Score: 13.47\tModel Saved\n",
      "Episode 555\tAverage Score: 13.49\tModel Saved\n",
      "Episode 559\tAverage Score: 13.52\tModel Saved\n",
      "Episode 560\tAverage Score: 13.54\tModel Saved\n",
      "Episode 561\tAverage Score: 13.57\tModel Saved\n",
      "Episode 564\tAverage Score: 13.57\tModel Saved\n",
      "Episode 570\tAverage Score: 13.63\tModel Saved\n",
      "Episode 571\tAverage Score: 13.69\tModel Saved\n",
      "Episode 572\tAverage Score: 13.71\tModel Saved\n",
      "Episode 574\tAverage Score: 13.77\tModel Saved\n",
      "Episode 575\tAverage Score: 13.82\tModel Saved\n",
      "Episode 577\tAverage Score: 13.83\tModel Saved\n",
      "Episode 578\tAverage Score: 13.86\tModel Saved\n",
      "Episode 587\tAverage Score: 13.90\tModel Saved\n",
      "Episode 590\tAverage Score: 13.90\tModel Saved\n",
      "Episode 593\tAverage Score: 13.92\tModel Saved\n",
      "Episode 594\tAverage Score: 13.99\tModel Saved\n",
      "Episode 595\tAverage Score: 14.05\tModel Saved\n",
      "Episode 600\tAverage Score: 14.00\n",
      "Episode 603\tAverage Score: 14.11\tModel Saved\n",
      "Episode 604\tAverage Score: 14.22\tModel Saved\n",
      "Episode 605\tAverage Score: 14.24\tModel Saved\n",
      "Episode 606\tAverage Score: 14.36\tModel Saved\n",
      "Episode 607\tAverage Score: 14.36\tModel Saved\n",
      "Episode 608\tAverage Score: 14.42\tModel Saved\n",
      "Episode 615\tAverage Score: 14.47\tModel Saved\n",
      "Episode 616\tAverage Score: 14.59\tModel Saved\n",
      "Episode 617\tAverage Score: 14.64\tModel Saved\n",
      "Episode 629\tAverage Score: 14.67\tModel Saved\n",
      "Episode 631\tAverage Score: 14.69\tModel Saved\n",
      "Episode 700\tAverage Score: 14.34\n",
      "Episode 776\tAverage Score: 14.69\tModel Saved\n",
      "Episode 778\tAverage Score: 14.72\tModel Saved\n",
      "Episode 779\tAverage Score: 14.73\tModel Saved\n",
      "Episode 780\tAverage Score: 14.76\tModel Saved\n",
      "Episode 786\tAverage Score: 14.79\tModel Saved\n",
      "Episode 800\tAverage Score: 14.63\n",
      "Episode 807\tAverage Score: 14.81\tModel Saved\n",
      "Episode 900\tAverage Score: 13.43\n",
      "Episode 998\tAverage Score: 14.82\tModel Saved\n",
      "Episode 999\tAverage Score: 14.90\tModel Saved\n",
      "Episode 1000\tAverage Score: 14.87\n",
      "Episode 1001\tAverage Score: 15.02\tModel Saved\n",
      "Episode 1100\tAverage Score: 14.08\n",
      "Episode 1130\tAverage Score: 15.03\tModel Saved\n",
      "Episode 1137\tAverage Score: 15.03\tModel Saved\n",
      "Episode 1138\tAverage Score: 15.06\tModel Saved\n",
      "Episode 1141\tAverage Score: 15.06\tModel Saved\n",
      "Episode 1146\tAverage Score: 15.08\tModel Saved\n",
      "Episode 1147\tAverage Score: 15.14\tModel Saved\n",
      "Episode 1149\tAverage Score: 15.26\tModel Saved\n",
      "Episode 1150\tAverage Score: 15.28\tModel Saved\n",
      "Episode 1151\tAverage Score: 15.37\tModel Saved\n",
      "Episode 1159\tAverage Score: 15.45\tModel Saved\n",
      "Episode 1160\tAverage Score: 15.52\tModel Saved\n",
      "Episode 1172\tAverage Score: 15.59\tModel Saved\n",
      "Episode 1173\tAverage Score: 15.59\tModel Saved\n",
      "Episode 1174\tAverage Score: 15.59\tModel Saved\n",
      "Episode 1175\tAverage Score: 15.64\tModel Saved\n",
      "Episode 1180\tAverage Score: 15.66\tModel Saved\n",
      "Episode 1181\tAverage Score: 15.77\tModel Saved\n",
      "Episode 1182\tAverage Score: 15.85\tModel Saved\n",
      "Episode 1200\tAverage Score: 15.74\n",
      "Episode 1300\tAverage Score: 14.49\n",
      "Episode 1400\tAverage Score: 14.77\n",
      "Episode 1469\tAverage Score: 15.95\tModel Saved\n",
      "Episode 1470\tAverage Score: 16.01\tModel Saved\n",
      "Episode 1471\tAverage Score: 16.02\tModel Saved\n",
      "Episode 1472\tAverage Score: 16.02\tModel Saved\n",
      "Episode 1500\tAverage Score: 15.48\n",
      "Episode 1600\tAverage Score: 15.37\n",
      "Episode 1700\tAverage Score: 14.78\n",
      "Episode 1800\tAverage Score: 15.12\n",
      "Episode 1842\tAverage Score: 16.04\tModel Saved\n",
      "Episode 1843\tAverage Score: 16.07\tModel Saved\n",
      "Episode 1844\tAverage Score: 16.12\tModel Saved\n",
      "Episode 1845\tAverage Score: 16.16\tModel Saved\n",
      "Episode 1846\tAverage Score: 16.21\tModel Saved\n",
      "Episode 1900\tAverage Score: 15.72\n",
      "Episode 2000\tAverage Score: 15.03\n",
      "Episode 2100\tAverage Score: 14.72\n",
      "Episode 2200\tAverage Score: 14.56\n",
      "Episode 2300\tAverage Score: 14.89\n",
      "Episode 2400\tAverage Score: 14.74\n",
      "Episode 2500\tAverage Score: 14.96\n",
      "Episode 2600\tAverage Score: 14.87\n",
      "Episode 2700\tAverage Score: 14.43\n",
      "Episode 2800\tAverage Score: 13.32\n",
      "Episode 2900\tAverage Score: 15.03\n",
      "Episode 3000\tAverage Score: 15.91\n"
     ]
    },
    {
     "data": {
      "image/png": "[encoded data removed]",
      "text/plain": [
       "<Figure size 432x288 with 1 Axes>"
      ]
     },
     "metadata": {
      "needs_background": "light"
     },
     "output_type": "display_data"
    }
   ],
   "source": [
    "def dqn(n_episodes=2000, eps_start=1.0, eps_end=0.01, eps_decay=0.995):\n",
    "    \"\"\"Train the Deep Q network.\"\"\"\n",
    "    highest_score = 0\n",
    "    scores = []\n",
    "    scores_windows = deque(maxlen=100)\n",
    "    eps = eps_start\n",
    "    solved = False\n",
    "    for i_episode in range(1, n_episodes + 1):\n",
    "        env_info = env.reset(train_mode=True)[brain_name]\n",
    "        state = env_info.vector_observations[0]\n",
    "        score = 0\n",
    "        while True:\n",
    "            action = agent.act(state, eps)\n",
    "            # send the action to the environment\n",
    "            env_info = env.step(action)[brain_name]\n",
    "            # get the next state\n",
    "            next_state = env_info.vector_observations[0]\n",
    "            # get the reward\n",
    "            reward = env_info.rewards[0]\n",
    "            # see if episode has finished\n",
    "            done = env_info.local_done[0]\n",
    "            agent.step(state, action, reward, next_state, done)\n",
    "            # update the score\n",
    "            score += reward\n",
    "            # roll over the state to next time step\n",
    "            state = next_state\n",
    "            \n",
    "            if done:\n",
    "                break\n",
    "        scores_windows.append(score)\n",
    "        scores.append(score)\n",
    "        eps = max(eps_end, eps * eps_decay)\n",
    "        if np.mean(scores_windows) > highest_score:\n",
    "            highest_score = np.mean(scores_windows)\n",
    "        print('\\rEpisode {}\\tAverage Score: {:.2f}'.format(i_episode, np.mean(scores_windows)), end=\"\")\n",
    "        if i_episode % 100 == 0:\n",
    "            print('\\rEpisode {}\\tAverage Score: {:.2f}'.format(i_episode, np.mean(scores_windows)))\n",
    "        if np.mean(scores_windows)>=13.0 and not solved:\n",
    "            print('\\nEnvironment solved in {:d} episodes!\\tAverage Score: {:.2f}'.format(i_episode-100, np.mean(scores_windows)))\n",
    "            solved = True\n",
    "        if np.mean(scores_windows)>=13.0 and solved:\n",
    "            if np.mean(scores_windows) == highest_score:\n",
    "                print('\\tModel Saved')\n",
    "                torch.save(agent.qnetwork_local.state_dict(), 'checkpoint.pth')\n",
    "    return scores\n",
    "\n",
    "scores = dqn()\n",
    "\n",
    "# plot the scores\n",
    "fig = plt.figure()\n",
    "ax = fig.add_subplot(111)\n",
    "plt.plot(np.arange(len(scores[:2000])), scores[:2000])\n",
    "plt.ylabel('Score')\n",
    "plt.xlabel('Episode #')\n",
    "plt.show()"
   ]
  },
  {
   "cell_type": "markdown",
   "metadata": {},
   "source": [
    "## Load and observe the trained agent"
   ]
  },
  {
   "cell_type": "code",
   "execution_count": 22,
   "metadata": {},
   "outputs": [
    {
     "name": "stdout",
     "output_type": "stream",
     "text": [
      "Score: 21.0\n"
     ]
    }
   ],
   "source": [
    "import time\n",
    "checkpoint = torch.load('checkpoint.pth')\n",
    "agent = DQNAgent(state_size=37, action_size=4, seed=0, use_dueling=True, use_double=True)\n",
    "agent.qnetwork_local.load_state_dict(checkpoint)\n",
    "\n",
    "\n",
    "env_info = env.reset(train_mode=True)[brain_name]\n",
    "state = env_info.vector_observations[0]\n",
    "score = 0\n",
    "while True:\n",
    "    time.sleep(0.025)\n",
    "    action = agent.act(state, 0)\n",
    "    env_info = env.step(action)[brain_name]\n",
    "    next_state = env_info.vector_observations[0]\n",
    "    reward = env_info.rewards[0]\n",
    "    done = env_info.local_done[0]\n",
    "    score += reward\n",
    "    state = next_state\n",
    "    if done:\n",
    "        break\n",
    "    \n",
    "print(\"Score: {}\".format(score))"
   ]
  },
  {
   "cell_type": "code",
   "execution_count": null,
   "metadata": {},
   "outputs": [],
   "source": [
    "env.close()"
   ]
  }
 ],
 "metadata": {
  "kernelspec": {
   "display_name": "torch0.4",
   "language": "python",
   "name": "torch0.4"
  },
  "language_info": {
   "codemirror_mode": {
    "name": "ipython",
    "version": 3
   },
   "file_extension": ".py",
   "mimetype": "text/x-python",
   "name": "python",
   "nbconvert_exporter": "python",
   "pygments_lexer": "ipython3",
   "version": "3.6.8"
  }
 },
 "nbformat": 4,
 "nbformat_minor": 2
}
